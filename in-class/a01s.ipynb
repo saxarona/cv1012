{
 "cells": [
  {
   "cell_type": "markdown",
   "metadata": {},
   "source": [
    "# Actividad 01 - CV1012"
   ]
  },
  {
   "cell_type": "code",
   "execution_count": 1,
   "metadata": {},
   "outputs": [],
   "source": [
    "from functools import reduce\n",
    "from operator import mul"
   ]
  },
  {
   "cell_type": "markdown",
   "metadata": {},
   "source": [
    "## Condiciones y Ciclos I"
   ]
  },
  {
   "cell_type": "markdown",
   "metadata": {},
   "source": [
    "1. Describe el conjunto $A$ por extensión si $A = \\{ n \\mid n \\in \\mathbb{N}, n \\leq 10\\}$"
   ]
  },
  {
   "cell_type": "markdown",
   "metadata": {},
   "source": [
    "$A = \\{1, 2, 3, 4, 5, 6, 7, 8, 9, 10\\}$"
   ]
  },
  {
   "cell_type": "markdown",
   "metadata": {},
   "source": [
    "Sea $x = \\langle 2, 5, 45, 17, 10, 22, 121 \\rangle$ y\n",
    "$$f(x_i) = \\begin{cases} 2x_i, \\; x_i = 2 \\\\\n",
    "3x_i, \\; x_i < 11, \\; x_i\\mod 5 = 0 \\\\\n",
    "x^2_i, \\; 11 < x_i < 20 \\\\\n",
    "x_i, \\; 20 \\leq x_i \\leq 100 \\text{ o bien } x_i \\geq 200\\\\\n",
    "0, \\; \\text{ en caso contrario}\n",
    "\\end{cases}\n",
    "$$"
   ]
  },
  {
   "cell_type": "code",
   "execution_count": 2,
   "metadata": {},
   "outputs": [
    {
     "name": "stdout",
     "output_type": "stream",
     "text": [
      "4\n",
      "15\n",
      "45\n",
      "289\n",
      "30\n",
      "22\n",
      "0\n",
      "0\n"
     ]
    }
   ],
   "source": [
    "def f(x):\n",
    "    if x == 2:\n",
    "        y = 2 * x\n",
    "    elif x < 11 and x % 5 == 0:\n",
    "        y = 3 * x\n",
    "    elif x > 11 and x < 20:\n",
    "        y = x ** 2\n",
    "    elif (x >= 20 and x <= 100) or x >= 200:\n",
    "        y = x\n",
    "    else:\n",
    "        y = 0\n",
    "    return y\n",
    "\n",
    "myvector = [2, 5, 45, 17, 10, 22, 121]\n",
    "\n",
    "for v in myvector:\n",
    "    print(f(v))\n",
    "\n",
    "print(f(1))"
   ]
  },
  {
   "cell_type": "code",
   "execution_count": 3,
   "metadata": {},
   "outputs": [
    {
     "data": {
      "text/plain": [
       "5050"
      ]
     },
     "execution_count": 3,
     "metadata": {},
     "output_type": "execute_result"
    }
   ],
   "source": [
    "sum(range(1, 101))\n",
    "    "
   ]
  },
  {
   "cell_type": "code",
   "execution_count": 4,
   "metadata": {},
   "outputs": [
    {
     "data": {
      "text/plain": [
       "140"
      ]
     },
     "execution_count": 4,
     "metadata": {},
     "output_type": "execute_result"
    }
   ],
   "source": [
    "sum([2 * i + 3 for i in range(1,11)])"
   ]
  },
  {
   "cell_type": "code",
   "execution_count": 5,
   "metadata": {},
   "outputs": [
    {
     "data": {
      "text/plain": [
       "720"
      ]
     },
     "execution_count": 5,
     "metadata": {},
     "output_type": "execute_result"
    }
   ],
   "source": [
    "reduce(mul, list(range(1,7)))"
   ]
  },
  {
   "cell_type": "markdown",
   "metadata": {},
   "source": [
    "## Condiciones y Ciclos II"
   ]
  },
  {
   "cell_type": "markdown",
   "metadata": {},
   "source": [
    "Para el inciso 2 de la sección anterior:\n",
    "\n",
    "1. ¿Cuántos parámetros tiene $f(x_i)$ &emsp; &emsp; `1`\n",
    "2. ¿Cuántos posibles resultados distintos tiene? &emsp; &emsp; $\\infty$\n",
    "3. ¿Qué pasa si evaluamos $f(x_i = 11)$? &emsp; &emsp; `0`\n",
    "4. ¿Qué pasa si evaluamos $f(x_i = 255)$? &emsp; &emsp; `255`\n",
    "\n",
    "Para el inciso 3 de la sección anterior:\n",
    "\n",
    "1. ¿Cuántos números estamos sumando? `100`\n",
    "2. ¿Habrá alguna manera más rápida de hacer este procedimiento? `Sí, con ` $n(n+1) \\over 2$\n",
    "\n",
    "Para el inciso 4 de la sección anterior:\n",
    "\n",
    "1. ¿Cuántas veces debo repetir el procedimiento? &emsp; &emsp; `10`\n",
    "2. ¿Habrá alguna manera más rápida de hacerlo? &emsp; &emsp; `No`\n",
    "\n",
    "Para el inciso 5 de la sección anterior:\n",
    "\n",
    "1. ¿Cuántos valores distintos toma la $i$? &emsp; &emsp; `6`\n",
    "2. ¿Habrá alguna manera más rápida de hacerlo? &emsp; &emsp; `No`\n",
    "3. ¿Pued hacer el procedimiento si en lugar de darme valores para $i$ conozco una condición para detenerme? &emsp; &emsp; `Sí`"
   ]
  }
 ],
 "metadata": {
  "kernelspec": {
   "display_name": "Python 3",
   "language": "python",
   "name": "python3"
  },
  "language_info": {
   "codemirror_mode": {
    "name": "ipython",
    "version": 3
   },
   "file_extension": ".py",
   "mimetype": "text/x-python",
   "name": "python",
   "nbconvert_exporter": "python",
   "pygments_lexer": "ipython3",
   "version": "3.7.4"
  }
 },
 "nbformat": 4,
 "nbformat_minor": 2
}

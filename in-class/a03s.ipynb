{
 "cells": [
  {
   "cell_type": "markdown",
   "metadata": {},
   "source": [
    "# Actividad 03"
   ]
  },
  {
   "cell_type": "code",
   "execution_count": 1,
   "metadata": {},
   "outputs": [],
   "source": [
    "import numpy as np"
   ]
  },
  {
   "cell_type": "markdown",
   "metadata": {},
   "source": [
    "## Vectores\n",
    "Resuelve las operaciones y contesta correctamente."
   ]
  },
  {
   "cell_type": "code",
   "execution_count": 2,
   "metadata": {},
   "outputs": [
    {
     "name": "stdout",
     "output_type": "stream",
     "text": [
      "x = [ 1  3  5  7  9 11 13]\n",
      "y = [ 2  4  6  8 10 12 14]\n"
     ]
    }
   ],
   "source": [
    "x = np.array(range(1,14,2))\n",
    "y = np.array(range(2,15,2))\n",
    "print(f\"x = {x}\\ny = {y}\")"
   ]
  },
  {
   "cell_type": "code",
   "execution_count": 3,
   "metadata": {},
   "outputs": [
    {
     "name": "stdout",
     "output_type": "stream",
     "text": [
      "x_1 = 1\n",
      "x_3 = 5\n",
      "x_5 = 9\n",
      "2 * x_4 = 14\n",
      "x_5 ^ 2 = 81\n",
      "x + 10 = [11 13 15 17 19 21 23]\n",
      "3 * x = [ 3  9 15 21 27 33 39]\n",
      "x + y = [ 3  7 11 15 19 23 27]\n"
     ]
    }
   ],
   "source": [
    "print(f\"x_1 = {x[0]}\")\n",
    "print(f\"x_3 = {x[2]}\")\n",
    "print(f\"x_5 = {x[4]}\")\n",
    "print(f\"2 * x_4 = {2 * x[3]}\")\n",
    "print(f\"x_5 ^ 2 = {x[4] ** 2}\")\n",
    "print(f\"x + 10 = {x + 10}\")\n",
    "print(f\"3 * x = {3 * x}\")\n",
    "print(f\"x + y = {x + y}\")"
   ]
  },
  {
   "cell_type": "markdown",
   "metadata": {},
   "source": [
    "## Matrices\n",
    "\n",
    "- ¿Qué es una variable? _Un lugar en memoria para almacenar un dato_\n",
    "- ¿Qué es un arreglo? _Datos ordenados de cierta manera tal que podemos obtener información a partir de su posición_\n",
    "- ¿Qué es una matriz? Un arreglo bidimensional que tiene filas y columnas"
   ]
  },
  {
   "cell_type": "markdown",
   "metadata": {},
   "source": [
    "1) Escribe la matriz de requerimientos de los procesadores\n",
    "\n",
    "$M = \\begin{bmatrix}\n",
    "            4 & 5 \\\\\n",
    "            3 & 2 \\\\\n",
    "            5 & 6\n",
    "        \\end{bmatrix}\n",
    "$"
   ]
  },
  {
   "cell_type": "markdown",
   "metadata": {},
   "source": [
    "2) Escribe la matriz de requerimientos del _Apis IV_ y el _Myxini II_.\n",
    "\n",
    "$R = \\begin{bmatrix}\n",
    "            8 & 2 \\\\ 3 & 4\n",
    "        \\end{bmatrix}$"
   ]
  },
  {
   "cell_type": "markdown",
   "metadata": {},
   "source": [
    "3) Desarrolla la multiplicación a continuación:"
   ]
  },
  {
   "cell_type": "code",
   "execution_count": 4,
   "metadata": {},
   "outputs": [
    {
     "name": "stdout",
     "output_type": "stream",
     "text": [
      "[[47 28]\n",
      " [30 14]\n",
      " [58 34]]\n"
     ]
    }
   ],
   "source": [
    "M = np.array([[4, 5],[3, 2],[5, 6]])\n",
    "R = np.array([[8, 2],[3, 4]])\n",
    "\n",
    "MR = np.matmul(M,R)\n",
    "print(MR)"
   ]
  },
  {
   "cell_type": "markdown",
   "metadata": {},
   "source": [
    "4) ¿Qué operación de las vistas debo aplicar al resultado anterior para saber las placas necesarias para un escuadrón que tiene tres patrullas?\n",
    "\n",
    "_Multiplicación escalar. Si yo multiplico toda la matriz por 3, obtengo la matriz deseada._"
   ]
  },
  {
   "cell_type": "code",
   "execution_count": 5,
   "metadata": {},
   "outputs": [
    {
     "name": "stdout",
     "output_type": "stream",
     "text": [
      "[[141  84]\n",
      " [ 90  42]\n",
      " [174 102]]\n"
     ]
    }
   ],
   "source": [
    "print(3 * MR)"
   ]
  }
 ],
 "metadata": {
  "kernelspec": {
   "display_name": "Python 3",
   "language": "python",
   "name": "python3"
  },
  "language_info": {
   "codemirror_mode": {
    "name": "ipython",
    "version": 3
   },
   "file_extension": ".py",
   "mimetype": "text/x-python",
   "name": "python",
   "nbconvert_exporter": "python",
   "pygments_lexer": "ipython3",
   "version": "3.7.4"
  }
 },
 "nbformat": 4,
 "nbformat_minor": 2
}

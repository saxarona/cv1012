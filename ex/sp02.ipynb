{
 "cells": [
  {
   "cell_type": "markdown",
   "metadata": {},
   "source": [
    "# Problem Situation 2\n",
    "\n",
    "We're supposed to get the surface of an irregular shape.\n",
    "Let's do this as a demo."
   ]
  },
  {
   "cell_type": "code",
   "execution_count": 1,
   "metadata": {},
   "outputs": [],
   "source": [
    "import numpy as np\n",
    "from scipy import integrate as sp\n",
    "import pandas as pd\n",
    "from matplotlib import pyplot as plt"
   ]
  },
  {
   "cell_type": "markdown",
   "metadata": {},
   "source": [
    "Using Google Earth, I marked 28 points to serve as the perimeter of **Little Barrier Island**, which is off the northeastern coast of Auckland, in New Zealand.\n",
    "\n",
    "After that, I used a calculator to convert between Latitude and Longitude coordinates to UTM and saved them in a _Comma Separated Value_ file:"
   ]
  },
  {
   "cell_type": "code",
   "execution_count": 2,
   "metadata": {},
   "outputs": [
    {
     "data": {
      "text/html": [
       "<div>\n",
       "<style scoped>\n",
       "    .dataframe tbody tr th:only-of-type {\n",
       "        vertical-align: middle;\n",
       "    }\n",
       "\n",
       "    .dataframe tbody tr th {\n",
       "        vertical-align: top;\n",
       "    }\n",
       "\n",
       "    .dataframe thead th {\n",
       "        text-align: right;\n",
       "    }\n",
       "</style>\n",
       "<table border=\"1\" class=\"dataframe\">\n",
       "  <thead>\n",
       "    <tr style=\"text-align: right;\">\n",
       "      <th></th>\n",
       "      <th>Name</th>\n",
       "      <th>Latitude</th>\n",
       "      <th>Longitude</th>\n",
       "      <th>X</th>\n",
       "      <th>Y</th>\n",
       "    </tr>\n",
       "  </thead>\n",
       "  <tbody>\n",
       "    <tr>\n",
       "      <td>0</td>\n",
       "      <td>ap1</td>\n",
       "      <td>-36.185623</td>\n",
       "      <td>175.053812</td>\n",
       "      <td>324.9964</td>\n",
       "      <td>5993.7077</td>\n",
       "    </tr>\n",
       "    <tr>\n",
       "      <td>1</td>\n",
       "      <td>ap2</td>\n",
       "      <td>-36.184442</td>\n",
       "      <td>175.070002</td>\n",
       "      <td>326.4498</td>\n",
       "      <td>5993.8679</td>\n",
       "    </tr>\n",
       "    <tr>\n",
       "      <td>2</td>\n",
       "      <td>ap3b</td>\n",
       "      <td>-36.179474</td>\n",
       "      <td>175.067500</td>\n",
       "      <td>326.2138</td>\n",
       "      <td>5994.4145</td>\n",
       "    </tr>\n",
       "    <tr>\n",
       "      <td>3</td>\n",
       "      <td>bp2c</td>\n",
       "      <td>-36.179389</td>\n",
       "      <td>175.075166</td>\n",
       "      <td>326.9031</td>\n",
       "      <td>5994.4377</td>\n",
       "    </tr>\n",
       "    <tr>\n",
       "      <td>4</td>\n",
       "      <td>cp2</td>\n",
       "      <td>-36.176160</td>\n",
       "      <td>175.086673</td>\n",
       "      <td>327.9309</td>\n",
       "      <td>5994.8163</td>\n",
       "    </tr>\n",
       "    <tr>\n",
       "      <td>5</td>\n",
       "      <td>cp3d</td>\n",
       "      <td>-36.173054</td>\n",
       "      <td>175.083195</td>\n",
       "      <td>327.6113</td>\n",
       "      <td>5995.1547</td>\n",
       "    </tr>\n",
       "    <tr>\n",
       "      <td>6</td>\n",
       "      <td>dp2</td>\n",
       "      <td>-36.168663</td>\n",
       "      <td>175.090350</td>\n",
       "      <td>328.2453</td>\n",
       "      <td>5995.6545</td>\n",
       "    </tr>\n",
       "    <tr>\n",
       "      <td>7</td>\n",
       "      <td>dp3e</td>\n",
       "      <td>-36.166966</td>\n",
       "      <td>175.089993</td>\n",
       "      <td>328.2095</td>\n",
       "      <td>5995.8422</td>\n",
       "    </tr>\n",
       "    <tr>\n",
       "      <td>8</td>\n",
       "      <td>ep2f</td>\n",
       "      <td>-36.167572</td>\n",
       "      <td>175.100624</td>\n",
       "      <td>329.1670</td>\n",
       "      <td>5995.7937</td>\n",
       "    </tr>\n",
       "    <tr>\n",
       "      <td>9</td>\n",
       "      <td>fp2</td>\n",
       "      <td>-36.170527</td>\n",
       "      <td>175.101336</td>\n",
       "      <td>329.2375</td>\n",
       "      <td>5995.4671</td>\n",
       "    </tr>\n",
       "    <tr>\n",
       "      <td>10</td>\n",
       "      <td>fp3g</td>\n",
       "      <td>-36.171505</td>\n",
       "      <td>175.104588</td>\n",
       "      <td>329.5321</td>\n",
       "      <td>5995.3644</td>\n",
       "    </tr>\n",
       "    <tr>\n",
       "      <td>11</td>\n",
       "      <td>gp2</td>\n",
       "      <td>-36.175654</td>\n",
       "      <td>175.113981</td>\n",
       "      <td>330.3860</td>\n",
       "      <td>5994.9205</td>\n",
       "    </tr>\n",
       "    <tr>\n",
       "      <td>12</td>\n",
       "      <td>gp3</td>\n",
       "      <td>-36.175264</td>\n",
       "      <td>175.116552</td>\n",
       "      <td>330.6163</td>\n",
       "      <td>5994.9683</td>\n",
       "    </tr>\n",
       "    <tr>\n",
       "      <td>13</td>\n",
       "      <td>gp4h</td>\n",
       "      <td>-36.181876</td>\n",
       "      <td>175.113506</td>\n",
       "      <td>330.3567</td>\n",
       "      <td>5994.2294</td>\n",
       "    </tr>\n",
       "    <tr>\n",
       "      <td>14</td>\n",
       "      <td>hp2</td>\n",
       "      <td>-36.188196</td>\n",
       "      <td>175.116096</td>\n",
       "      <td>330.6033</td>\n",
       "      <td>5993.5328</td>\n",
       "    </tr>\n",
       "    <tr>\n",
       "      <td>15</td>\n",
       "      <td>hp3i</td>\n",
       "      <td>-36.196026</td>\n",
       "      <td>175.115329</td>\n",
       "      <td>330.5511</td>\n",
       "      <td>5992.6628</td>\n",
       "    </tr>\n",
       "    <tr>\n",
       "      <td>16</td>\n",
       "      <td>ip2j</td>\n",
       "      <td>-36.208050</td>\n",
       "      <td>175.115573</td>\n",
       "      <td>330.5990</td>\n",
       "      <td>5991.3294</td>\n",
       "    </tr>\n",
       "    <tr>\n",
       "      <td>17</td>\n",
       "      <td>jp2k</td>\n",
       "      <td>-36.215448</td>\n",
       "      <td>175.114875</td>\n",
       "      <td>330.5522</td>\n",
       "      <td>5990.5075</td>\n",
       "    </tr>\n",
       "    <tr>\n",
       "      <td>18</td>\n",
       "      <td>kp2</td>\n",
       "      <td>-36.219032</td>\n",
       "      <td>175.115696</td>\n",
       "      <td>330.6337</td>\n",
       "      <td>5990.1114</td>\n",
       "    </tr>\n",
       "    <tr>\n",
       "      <td>19</td>\n",
       "      <td>kp3l</td>\n",
       "      <td>-36.232019</td>\n",
       "      <td>175.105037</td>\n",
       "      <td>329.7037</td>\n",
       "      <td>5988.6520</td>\n",
       "    </tr>\n",
       "    <tr>\n",
       "      <td>20</td>\n",
       "      <td>lp2m</td>\n",
       "      <td>-36.230646</td>\n",
       "      <td>175.072914</td>\n",
       "      <td>326.8135</td>\n",
       "      <td>5988.7473</td>\n",
       "    </tr>\n",
       "    <tr>\n",
       "      <td>21</td>\n",
       "      <td>mp2n</td>\n",
       "      <td>-36.223779</td>\n",
       "      <td>175.082250</td>\n",
       "      <td>327.6376</td>\n",
       "      <td>5989.5257</td>\n",
       "    </tr>\n",
       "    <tr>\n",
       "      <td>22</td>\n",
       "      <td>np3o</td>\n",
       "      <td>-36.220533</td>\n",
       "      <td>175.061286</td>\n",
       "      <td>325.7460</td>\n",
       "      <td>5989.8484</td>\n",
       "    </tr>\n",
       "    <tr>\n",
       "      <td>23</td>\n",
       "      <td>op2</td>\n",
       "      <td>-36.217358</td>\n",
       "      <td>175.071556</td>\n",
       "      <td>326.6622</td>\n",
       "      <td>5990.2190</td>\n",
       "    </tr>\n",
       "    <tr>\n",
       "      <td>24</td>\n",
       "      <td>op3q</td>\n",
       "      <td>-36.203226</td>\n",
       "      <td>175.056607</td>\n",
       "      <td>325.2869</td>\n",
       "      <td>5991.7600</td>\n",
       "    </tr>\n",
       "    <tr>\n",
       "      <td>25</td>\n",
       "      <td>qp2</td>\n",
       "      <td>-36.200248</td>\n",
       "      <td>175.056130</td>\n",
       "      <td>325.2374</td>\n",
       "      <td>5992.0894</td>\n",
       "    </tr>\n",
       "    <tr>\n",
       "      <td>26</td>\n",
       "      <td>qp3r</td>\n",
       "      <td>-36.195593</td>\n",
       "      <td>175.055289</td>\n",
       "      <td>325.1514</td>\n",
       "      <td>5992.6044</td>\n",
       "    </tr>\n",
       "    <tr>\n",
       "      <td>27</td>\n",
       "      <td>rp2</td>\n",
       "      <td>-36.191130</td>\n",
       "      <td>175.055723</td>\n",
       "      <td>325.1805</td>\n",
       "      <td>5993.1003</td>\n",
       "    </tr>\n",
       "  </tbody>\n",
       "</table>\n",
       "</div>"
      ],
      "text/plain": [
       "    Name   Latitude   Longitude         X          Y\n",
       "0    ap1 -36.185623  175.053812  324.9964  5993.7077\n",
       "1    ap2 -36.184442  175.070002  326.4498  5993.8679\n",
       "2   ap3b -36.179474  175.067500  326.2138  5994.4145\n",
       "3   bp2c -36.179389  175.075166  326.9031  5994.4377\n",
       "4    cp2 -36.176160  175.086673  327.9309  5994.8163\n",
       "5   cp3d -36.173054  175.083195  327.6113  5995.1547\n",
       "6    dp2 -36.168663  175.090350  328.2453  5995.6545\n",
       "7   dp3e -36.166966  175.089993  328.2095  5995.8422\n",
       "8   ep2f -36.167572  175.100624  329.1670  5995.7937\n",
       "9    fp2 -36.170527  175.101336  329.2375  5995.4671\n",
       "10  fp3g -36.171505  175.104588  329.5321  5995.3644\n",
       "11   gp2 -36.175654  175.113981  330.3860  5994.9205\n",
       "12   gp3 -36.175264  175.116552  330.6163  5994.9683\n",
       "13  gp4h -36.181876  175.113506  330.3567  5994.2294\n",
       "14   hp2 -36.188196  175.116096  330.6033  5993.5328\n",
       "15  hp3i -36.196026  175.115329  330.5511  5992.6628\n",
       "16  ip2j -36.208050  175.115573  330.5990  5991.3294\n",
       "17  jp2k -36.215448  175.114875  330.5522  5990.5075\n",
       "18   kp2 -36.219032  175.115696  330.6337  5990.1114\n",
       "19  kp3l -36.232019  175.105037  329.7037  5988.6520\n",
       "20  lp2m -36.230646  175.072914  326.8135  5988.7473\n",
       "21  mp2n -36.223779  175.082250  327.6376  5989.5257\n",
       "22  np3o -36.220533  175.061286  325.7460  5989.8484\n",
       "23   op2 -36.217358  175.071556  326.6622  5990.2190\n",
       "24  op3q -36.203226  175.056607  325.2869  5991.7600\n",
       "25   qp2 -36.200248  175.056130  325.2374  5992.0894\n",
       "26  qp3r -36.195593  175.055289  325.1514  5992.6044\n",
       "27   rp2 -36.191130  175.055723  325.1805  5993.1003"
      ]
     },
     "execution_count": 2,
     "metadata": {},
     "output_type": "execute_result"
    }
   ],
   "source": [
    "mypoints = pd.read_csv('sp02.csv')\n",
    "# Let's convert to km instead of meters\n",
    "mypoints.X = mypoints.X / 1000\n",
    "mypoints.Y = mypoints.Y / 1000\n",
    "mypoints"
   ]
  },
  {
   "cell_type": "markdown",
   "metadata": {},
   "source": [
    "Get X and Y coordinates, and append the first one again to close the loop in the plot"
   ]
  },
  {
   "cell_type": "code",
   "execution_count": 3,
   "metadata": {},
   "outputs": [],
   "source": [
    "x = mypoints.X.values\n",
    "y = mypoints.Y.values\n",
    "\n",
    "x = np.append(x, x[0])\n",
    "y = np.append(y, y[0])"
   ]
  },
  {
   "cell_type": "markdown",
   "metadata": {},
   "source": [
    "Let's plot it and see more or less what the points show"
   ]
  },
  {
   "cell_type": "code",
   "execution_count": 4,
   "metadata": {},
   "outputs": [
    {
     "data": {
      "text/plain": [
       "[<matplotlib.lines.Line2D at 0x2ee47a37248>]"
      ]
     },
     "execution_count": 4,
     "metadata": {},
     "output_type": "execute_result"
    },
    {
     "data": {
      "image/png": "[encoded data removed]",
      "text/plain": [
       "<Figure size 432x288 with 1 Axes>"
      ]
     },
     "metadata": {
      "needs_background": "light"
     },
     "output_type": "display_data"
    }
   ],
   "source": [
    "plt.plot(x,y, 'ob--')"
   ]
  },
  {
   "cell_type": "markdown",
   "metadata": {},
   "source": [
    "We need to normalise the plots so that it all occurs on the first quadrant of the Cartesian plane, so let's substract the minimum $x$ and $y$ to ALL points"
   ]
  },
  {
   "cell_type": "code",
   "execution_count": 5,
   "metadata": {},
   "outputs": [],
   "source": [
    "y = y - np.amin(y)\n",
    "x = x - np.amin(x)"
   ]
  },
  {
   "cell_type": "markdown",
   "metadata": {},
   "source": [
    "If we plot again, we should get the same shape, but positioned at $(0,0)$"
   ]
  },
  {
   "cell_type": "code",
   "execution_count": 6,
   "metadata": {},
   "outputs": [
    {
     "data": {
      "text/plain": [
       "[<matplotlib.lines.Line2D at 0x2ee4853bd08>]"
      ]
     },
     "execution_count": 6,
     "metadata": {},
     "output_type": "execute_result"
    },
    {
     "data": {
      "image/png": "[encoded data removed]",
      "text/plain": [
       "<Figure size 432x288 with 1 Axes>"
      ]
     },
     "metadata": {
      "needs_background": "light"
     },
     "output_type": "display_data"
    }
   ],
   "source": [
    "plt.plot(x,y, 'ob--')"
   ]
  },
  {
   "cell_type": "markdown",
   "metadata": {},
   "source": [
    "There's 2 possible ways to carry on: using `np.polyfit`, or using a built-in function. Let's go with the built-in first."
   ]
  },
  {
   "cell_type": "markdown",
   "metadata": {},
   "source": [
    "## The segmentation method"
   ]
  },
  {
   "cell_type": "markdown",
   "metadata": {},
   "source": [
    "In my case, I have declared 14 segments, as shown:"
   ]
  },
  {
   "cell_type": "code",
   "execution_count": 7,
   "metadata": {},
   "outputs": [
    {
     "data": {
      "text/plain": [
       "[<matplotlib.lines.Line2D at 0x2ee48628a88>]"
      ]
     },
     "execution_count": 7,
     "metadata": {},
     "output_type": "execute_result"
    },
    {
     "data": {
      "image/png": "[encoded data removed]",
      "text/plain": [
       "<Figure size 432x288 with 1 Axes>"
      ]
     },
     "metadata": {
      "needs_background": "light"
     },
     "output_type": "display_data"
    }
   ],
   "source": [
    "plt.plot(x[0:3], y[0:3],'.-') # 0:3, 2\n",
    "plt.plot(x[2:6], y[2:6],'.-') # 2:6, 2\n",
    "plt.plot(x[5:8], y[5:8],'.-') # 5:8, 2\n",
    "plt.plot(x[7:9], y[7:9],'.-') # 7:9, 1\n",
    "plt.plot(x[8:11], y[8:11],'.-') # 8:11, 2\n",
    "plt.plot(x[10:14], y[10:14],'.-') # 10:14, 2\n",
    "plt.plot(x[13:16], y[13:16],'.-') # 13:16, 2\n",
    "plt.plot(x[15:18], y[15:18],'.-') # 15:18, 1\n",
    "plt.plot(x[17:20], y[17:20],'.-') # 17:20, 2\n",
    "plt.plot(x[19:21], y[19:21],'.-') # 19:21, 1\n",
    "plt.plot(x[20:23], y[20:23],'.-') # 20:23, 2\n",
    "plt.plot(x[22:26], y[22:26],'.-') # 22:26, 2\n",
    "plt.plot(x[25:27], y[25:27],'.-') # 25:27, 1\n",
    "plt.plot(x[26:29], y[26:29],'.-') # 26:29, 2"
   ]
  },
  {
   "cell_type": "markdown",
   "metadata": {},
   "source": [
    "So we need to obtain the integral of each of those segments.\n",
    "For that, I'm using the `integrate` module in the `scipy` Python package.\n",
    "Especifically, the `trapz` function allows us to pass a list of $y$ coordinates, a list of $x$ coordinates and that's it.\n",
    "\n",
    "I am calculating them all 'at once' in this cell, and saving them in the `ints` list"
   ]
  },
  {
   "cell_type": "code",
   "execution_count": 8,
   "metadata": {},
   "outputs": [
    {
     "data": {
      "text/plain": [
       "[6.1689205199997295,\n",
       " 8.097005529999919,\n",
       " 4.027099070000017,\n",
       " 6.861397124999933,\n",
       " 2.484577949999919,\n",
       " 5.447532715000417,\n",
       " 1.0574252999998879,\n",
       " 0.054112530000184705,\n",
       " -0.5435388250002817,\n",
       " -0.137718029999933,\n",
       " -1.5586241300007435,\n",
       " -2.110848859999655,\n",
       " -0.31776140000008285,\n",
       " -0.7526130149998437]"
      ]
     },
     "execution_count": 8,
     "metadata": {},
     "output_type": "execute_result"
    }
   ],
   "source": [
    "ints = []\n",
    "ints.append(sp.trapz(y[0:3], x[0:3], axis=0)) # 0:3, 2\n",
    "ints.append(sp.trapz(y[2:6], x[2:6], axis=0)) # 2:6, 2\n",
    "ints.append(sp.trapz(y[5:8], x[5:8], axis=0)) # 5:8, 2\n",
    "ints.append(sp.trapz(y[7:9], x[7:9], axis=0)) # 7:9, 1\n",
    "ints.append(sp.trapz(y[8:11], x[8:11], axis=0)) # 8:11, 2\n",
    "ints.append(sp.trapz(y[10:14], x[10:14], axis=0)) # 10:14, 2\n",
    "ints.append(sp.trapz(y[13:16], x[13:16], axis=0)) # 13:16, 2\n",
    "ints.append(sp.trapz(y[15:18], x[15:18], axis=0)) # 15:18, 1\n",
    "ints.append(sp.trapz(y[17:20], x[17:20], axis=0)) # 17:20, 2\n",
    "ints.append(sp.trapz(y[19:21], x[19:21], axis=0)) # 19:21, 1\n",
    "ints.append(sp.trapz(y[20:23], x[20:23], axis=0)) # 20:23, 2\n",
    "ints.append(sp.trapz(y[22:26], x[22:26], axis=0)) # 22:26, 2\n",
    "ints.append(sp.trapz(y[25:27], x[25:27], axis=0)) # 25:27, 1\n",
    "ints.append(sp.trapz(y[26:29], x[26:29], axis=0)) # 26:-1, 2\n",
    "ints"
   ]
  },
  {
   "cell_type": "markdown",
   "metadata": {},
   "source": [
    "If I sum all the integrals (including the negative ones) then I'll have the area between those segments:"
   ]
  },
  {
   "cell_type": "code",
   "execution_count": 9,
   "metadata": {},
   "outputs": [
    {
     "data": {
      "text/plain": [
       "28.776966479999462"
      ]
     },
     "execution_count": 9,
     "metadata": {},
     "output_type": "execute_result"
    }
   ],
   "source": [
    "np.sum(ints)"
   ]
  },
  {
   "cell_type": "markdown",
   "metadata": {},
   "source": [
    "## The `polyfit` approach"
   ]
  },
  {
   "cell_type": "markdown",
   "metadata": {},
   "source": [
    "The other approach is to get the functions of the segments, and then integrate them and such.\n",
    "\n",
    "We start with the _upper_ part, which is a unique segment of 16 points, joint using a function of degree 4:"
   ]
  },
  {
   "cell_type": "code",
   "execution_count": 10,
   "metadata": {},
   "outputs": [
    {
     "data": {
      "text/plain": [
       "array([-2.86929328e-03, -5.51261208e-02,  4.39308625e-01, -2.08899401e-01,\n",
       "        5.08813953e+00])"
      ]
     },
     "execution_count": 10,
     "metadata": {},
     "output_type": "execute_result"
    }
   ],
   "source": [
    "np.polyfit(x[0:16], y[0:16], 4)"
   ]
  },
  {
   "cell_type": "markdown",
   "metadata": {},
   "source": [
    "I'll program the function and we end up with the following:"
   ]
  },
  {
   "cell_type": "code",
   "execution_count": 11,
   "metadata": {},
   "outputs": [],
   "source": [
    "def f(x):\n",
    "    return -2.86929328e-03 * x ** 4 -5.51261208e-02 * x ** 3 + 4.39308625e-01 * x ** 2  -2.08899401e-01 * x + 5.08813953e+00"
   ]
  },
  {
   "cell_type": "markdown",
   "metadata": {},
   "source": [
    "Let's see how it looks like"
   ]
  },
  {
   "cell_type": "code",
   "execution_count": 12,
   "metadata": {},
   "outputs": [
    {
     "data": {
      "text/plain": [
       "[<matplotlib.lines.Line2D at 0x2ee48686c88>]"
      ]
     },
     "execution_count": 12,
     "metadata": {},
     "output_type": "execute_result"
    },
    {
     "data": {
      "image/png": "[encoded data removed]",
      "text/plain": [
       "<Figure size 432x288 with 1 Axes>"
      ]
     },
     "metadata": {
      "needs_background": "light"
     },
     "output_type": "display_data"
    }
   ],
   "source": [
    "plt.plot(x[0:16], y[0:16], 'ob--')\n",
    "plt.plot(x[0:16], f(x[0:16]), 'r+-.')"
   ]
  },
  {
   "cell_type": "markdown",
   "metadata": {},
   "source": [
    "Which is a decent approximation. Let's continue with the _lower_ part, which is another segment of 14 points, joint using a 4-th degree function"
   ]
  },
  {
   "cell_type": "code",
   "execution_count": 13,
   "metadata": {},
   "outputs": [
    {
     "data": {
      "text/plain": [
       "array([ 0.09866816, -1.15196135,  4.63933129, -7.64963703,  5.13160799])"
      ]
     },
     "execution_count": 13,
     "metadata": {},
     "output_type": "execute_result"
    }
   ],
   "source": [
    "np.polyfit(x[15:29], y[15:29], 4)"
   ]
  },
  {
   "cell_type": "code",
   "execution_count": 14,
   "metadata": {},
   "outputs": [],
   "source": [
    "def f2(x):\n",
    "     return 0.09866816 * x ** 4 -1.15196135 * x ** 3 +  4.63933129 * x ** 2 -7.64963703 * x + 5.13160799"
   ]
  },
  {
   "cell_type": "markdown",
   "metadata": {},
   "source": [
    "which looks like this..."
   ]
  },
  {
   "cell_type": "code",
   "execution_count": 15,
   "metadata": {},
   "outputs": [
    {
     "data": {
      "text/plain": [
       "[<matplotlib.lines.Line2D at 0x2ee486b5b08>]"
      ]
     },
     "execution_count": 15,
     "metadata": {},
     "output_type": "execute_result"
    },
    {
     "data": {
      "image/png": "[encoded data removed]",
      "text/plain": [
       "<Figure size 432x288 with 1 Axes>"
      ]
     },
     "metadata": {
      "needs_background": "light"
     },
     "output_type": "display_data"
    }
   ],
   "source": [
    "plt.plot(x[15:29],y[15:29], 'ob--')\n",
    "plt.plot(x[15:29], f2(x[15:29]), 'r-.')"
   ]
  },
  {
   "cell_type": "markdown",
   "metadata": {},
   "source": [
    "We can now proceed to obtain the integral of the upper part `f`, and substract the integral of the lower part `f2`.\n",
    "For this I'm using another `scipy`'s `integrate` function called `quad`. It needs a function (`f`, for example) and then points $a$ and $b$, which in this case is the leftmost and the rightmost $x$-coordinate in our data."
   ]
  },
  {
   "cell_type": "code",
   "execution_count": 16,
   "metadata": {},
   "outputs": [
    {
     "name": "stdout",
     "output_type": "stream",
     "text": [
      "(34.41263586487607, 3.8205700675226855e-13)\n",
      "(5.9239037154861185, 6.576854300595201e-14)\n"
     ]
    }
   ],
   "source": [
    "I1 = sp.quad(f, np.amin(x), np.amax(x))\n",
    "print(I1)\n",
    "I2 = sp.quad(f2, np.amin(x), np.amax(x))\n",
    "print(I2)"
   ]
  },
  {
   "cell_type": "markdown",
   "metadata": {},
   "source": [
    "The two numbers per _answer_ are first the value of the integral and then the error. As you can see the error is quite small, so we're good.\n",
    "\n",
    "We just need to substract the _lower_ part from the _upper_ part and we're done:"
   ]
  },
  {
   "cell_type": "code",
   "execution_count": 17,
   "metadata": {},
   "outputs": [
    {
     "data": {
      "text/plain": [
       "28.488732149389953"
      ]
     },
     "execution_count": 17,
     "metadata": {},
     "output_type": "execute_result"
    }
   ],
   "source": [
    "I = I1[0] - I2[0]\n",
    "I"
   ]
  },
  {
   "cell_type": "markdown",
   "metadata": {},
   "source": [
    "## Summary"
   ]
  },
  {
   "cell_type": "code",
   "execution_count": 18,
   "metadata": {},
   "outputs": [
    {
     "name": "stdout",
     "output_type": "stream",
     "text": [
      "Surface according to the segments method is 28.776966479999462\n",
      "Surface according to the polyfit method is 28.488732149389953\n",
      "Real surface according to Wikipedia: 28.17 km²\n"
     ]
    }
   ],
   "source": [
    "segment_result = np.sum(ints)\n",
    "polyfit_result = I\n",
    "print(f'Surface according to the segments method is {segment_result}')\n",
    "print(f'Surface according to the polyfit method is {polyfit_result}')\n",
    "print('Real surface according to Wikipedia: 28.17 km²')"
   ]
  }
 ],
 "metadata": {
  "kernelspec": {
   "display_name": "Python 3",
   "language": "python",
   "name": "python3"
  },
  "language_info": {
   "codemirror_mode": {
    "name": "ipython",
    "version": 3
   },
   "file_extension": ".py",
   "mimetype": "text/x-python",
   "name": "python",
   "nbconvert_exporter": "python",
   "pygments_lexer": "ipython3",
   "version": "3.7.4"
  }
 },
 "nbformat": 4,
 "nbformat_minor": 2
}

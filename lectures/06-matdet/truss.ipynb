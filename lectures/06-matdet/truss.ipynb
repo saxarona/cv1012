{
 "cells": [
  {
   "cell_type": "markdown",
   "metadata": {},
   "source": [
    "#  Analysis of a statically determinate truss\n",
    "\n",
    "From Chapra & Canale's Numerical Methods for Engineers"
   ]
  },
  {
   "cell_type": "markdown",
   "metadata": {},
   "source": [
    "First, the modules we're using"
   ]
  },
  {
   "cell_type": "code",
   "execution_count": 1,
   "metadata": {},
   "outputs": [],
   "source": [
    "import numpy as np  # numerical computation\n",
    "from scipy.linalg import solve  # linear equation system solver\n",
    "import sympy  # symbolic representation"
   ]
  },
  {
   "cell_type": "code",
   "execution_count": 2,
   "metadata": {},
   "outputs": [],
   "source": [
    "degs = np.pi/180 # to convert to degrees from radians\n",
    "a = 30 * degs  # this is the first angle\n",
    "b = 60 * degs  # this is the second angle\n",
    "\n",
    "M = np.array([[np.cos(a), 0, -np.cos(b), 0, 0, 0],\n",
    "              [np.sin(a), 0, np.sin(b), 0, 0, 0],\n",
    "              [-np.cos(a), -1, 0, -1, 0, 0],\n",
    "              [-np.sin(a), 0, 0, 0, -1, 0],\n",
    "              [0, 1, np.cos(b), 0, 0, 0],\n",
    "              [0, 0, -np.sin(b), 0, 0, -1]])\n",
    "\n",
    "B = np.array([0, -1000, 0, 0, 0, 0])"
   ]
  },
  {
   "cell_type": "markdown",
   "metadata": {},
   "source": [
    "Our coefficient matrix $M$ looks like this"
   ]
  },
  {
   "cell_type": "code",
   "execution_count": 3,
   "metadata": {},
   "outputs": [
    {
     "data": {
      "text/latex": [
       "$\\displaystyle \\left[\\begin{matrix}0.866025403784439 & 0.0 & -0.5 & 0.0 & 0.0 & 0.0\\\\0.5 & 0.0 & 0.866025403784439 & 0.0 & 0.0 & 0.0\\\\-0.866025403784439 & -1.0 & 0.0 & -1.0 & 0.0 & 0.0\\\\-0.5 & 0.0 & 0.0 & 0.0 & -1.0 & 0.0\\\\0.0 & 1.0 & 0.5 & 0.0 & 0.0 & 0.0\\\\0.0 & 0.0 & -0.866025403784439 & 0.0 & 0.0 & -1.0\\end{matrix}\\right]$"
      ],
      "text/plain": [
       "Matrix([\n",
       "[ 0.866025403784439,  0.0,               -0.5,  0.0,  0.0,  0.0],\n",
       "[               0.5,  0.0,  0.866025403784439,  0.0,  0.0,  0.0],\n",
       "[-0.866025403784439, -1.0,                0.0, -1.0,  0.0,  0.0],\n",
       "[              -0.5,  0.0,                0.0,  0.0, -1.0,  0.0],\n",
       "[               0.0,  1.0,                0.5,  0.0,  0.0,  0.0],\n",
       "[               0.0,  0.0, -0.866025403784439,  0.0,  0.0, -1.0]])"
      ]
     },
     "execution_count": 3,
     "metadata": {},
     "output_type": "execute_result"
    }
   ],
   "source": [
    "sympy.Matrix(M)"
   ]
  },
  {
   "cell_type": "markdown",
   "metadata": {},
   "source": [
    "The vector of resulting forces $B$ looks like this"
   ]
  },
  {
   "cell_type": "code",
   "execution_count": 4,
   "metadata": {},
   "outputs": [
    {
     "data": {
      "text/latex": [
       "$\\displaystyle \\left[\\begin{matrix}0\\\\-1000\\\\0\\\\0\\\\0\\\\0\\end{matrix}\\right]$"
      ],
      "text/plain": [
       "Matrix([\n",
       "[    0],\n",
       "[-1000],\n",
       "[    0],\n",
       "[    0],\n",
       "[    0],\n",
       "[    0]])"
      ]
     },
     "execution_count": 4,
     "metadata": {},
     "output_type": "execute_result"
    }
   ],
   "source": [
    "sympy.Matrix(B)"
   ]
  },
  {
   "cell_type": "markdown",
   "metadata": {},
   "source": [
    "And the solution of the problem gives the following forces"
   ]
  },
  {
   "cell_type": "code",
   "execution_count": 5,
   "metadata": {},
   "outputs": [
    {
     "data": {
      "text/latex": [
       "$\\displaystyle \\left[\\begin{matrix}-500.0\\\\433.012701892219\\\\-866.025403784439\\\\0.0\\\\250.0\\\\750.0\\end{matrix}\\right]$"
      ],
      "text/plain": [
       "Matrix([\n",
       "[           -500.0],\n",
       "[ 433.012701892219],\n",
       "[-866.025403784439],\n",
       "[              0.0],\n",
       "[            250.0],\n",
       "[            750.0]])"
      ]
     },
     "execution_count": 5,
     "metadata": {},
     "output_type": "execute_result"
    }
   ],
   "source": [
    "sympy.Matrix(solve(M, B).reshape(-6,1))"
   ]
  }
 ],
 "metadata": {
  "kernelspec": {
   "display_name": "Python 3",
   "language": "python",
   "name": "python3"
  },
  "language_info": {
   "codemirror_mode": {
    "name": "ipython",
    "version": 3
   },
   "file_extension": ".py",
   "mimetype": "text/x-python",
   "name": "python",
   "nbconvert_exporter": "python",
   "pygments_lexer": "ipython3",
   "version": "3.7.4"
  }
 },
 "nbformat": 4,
 "nbformat_minor": 2
}

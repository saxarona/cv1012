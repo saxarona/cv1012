{
 "cells": [
  {
   "cell_type": "markdown",
   "metadata": {},
   "source": [
    "# Lecture 2 plots\n",
    "\n",
    "This example was taken from [**here**](https://scipy-lectures.org/intro/scipy/auto_examples/plot_optimize_example2.html) and adapted to our class needs."
   ]
  },
  {
   "cell_type": "code",
   "execution_count": 1,
   "metadata": {},
   "outputs": [],
   "source": [
    "# import libraries\n",
    "import numpy as np  # numpy for numerical computation\n",
    "import matplotlib.pyplot as plt  # matplotlib for plotting\n",
    "from seaborn import despine  # easy manipulation of axes\n",
    "from scipy import optimize  # to find optimal roots"
   ]
  },
  {
   "cell_type": "code",
   "execution_count": 2,
   "metadata": {},
   "outputs": [
    {
     "name": "stdout",
     "output_type": "stream",
     "text": [
      "First root found [0.]\n",
      "Second root found [-2.47948183]\n"
     ]
    }
   ],
   "source": [
    "# define our mesh\n",
    "x = np.arange(-10, 10, 0.1)\n",
    "\n",
    "# now define a brief function\n",
    "def f(x):\n",
    "    return x**2 + 10*np.sin(x)\n",
    "\n",
    "# find the first root\n",
    "root1 = optimize.root(f, 1)  # our initial guess is 1\n",
    "print(\"First root found %s\" % root1.x)\n",
    "\n",
    "#find the second root\n",
    "root2 = optimize.root(f, -2.5)\n",
    "print(\"Second root found %s\" % root2.x)"
   ]
  },
  {
   "cell_type": "code",
   "execution_count": 3,
   "metadata": {},
   "outputs": [
    {
     "data": {
      "image/png": "[encoded data removed]",
      "text/plain": [
       "<Figure size 432x288 with 1 Axes>"
      ]
     },
     "metadata": {
      "needs_background": "light"
     },
     "output_type": "display_data"
    }
   ],
   "source": [
    "# make a figure\n",
    "fig = plt.figure(figsize=(6, 4))\n",
    "# add a plot\n",
    "ax = fig.add_subplot(111)\n",
    "\n",
    "# plot f(x)\n",
    "ax.plot(x, f(x), 'b-', label=\"f(x)\")\n",
    "\n",
    "# add the 0-axis\n",
    "ax.axhline(0, color='gray')\n",
    "\n",
    "# plot roots\n",
    "roots = np.array([root1.x, root2.x])\n",
    "ax.plot(roots, f(roots), 'k.', label=\"roots\")\n",
    "\n",
    "# decorate plot\n",
    "ax.legend(loc='best')\n",
    "ax.set_xlabel('x')\n",
    "ax.set_ylabel('f(x)')\n",
    "\n",
    "despine() # remove top and right axes\n",
    "plt.savefig('roots.pdf', format='pdf')  # save the figure for our lecture\n",
    "plt.show()  # show the plot on the screen"
   ]
  },
  {
   "cell_type": "code",
   "execution_count": 4,
   "metadata": {},
   "outputs": [],
   "source": [
    "def bisection(x_l, x_u, f, x_r, treshold=0.005):\n",
    "    f_l = f(x_l)\n",
    "    error = 1\n",
    "    \n",
    "    while error > treshold:\n",
    "        x_old = x_r\n",
    "        \n",
    "        x_r = (x_l + x_u) / 2\n",
    "        f_r = f(x_r)\n",
    "        \n",
    "        error = abs((x_old - x_r) / x_old)\n",
    "        \n",
    "        test = f_l * f_r\n",
    "        \n",
    "        if test < 0:\n",
    "            x_u = x_r\n",
    "        elif test > 0:\n",
    "            x_l = x_r\n",
    "            f_l = f_r\n",
    "        else:\n",
    "            error = 0\n",
    "\n",
    "    return x_r"
   ]
  },
  {
   "cell_type": "code",
   "execution_count": 5,
   "metadata": {},
   "outputs": [
    {
     "data": {
      "text/plain": [
       "-2.4765625"
      ]
     },
     "execution_count": 5,
     "metadata": {},
     "output_type": "execute_result"
    }
   ],
   "source": [
    "bisection(-3, -2, f, -2)"
   ]
  },
  {
   "cell_type": "code",
   "execution_count": 6,
   "metadata": {},
   "outputs": [],
   "source": [
    "def hardfunction(x):\n",
    "    return x**10 - 1"
   ]
  },
  {
   "cell_type": "code",
   "execution_count": 11,
   "metadata": {},
   "outputs": [
    {
     "data": {
      "image/png": "[encoded data removed]",
      "text/plain": [
       "<Figure size 432x288 with 1 Axes>"
      ]
     },
     "metadata": {
      "needs_background": "light"
     },
     "output_type": "display_data"
    }
   ],
   "source": [
    "# make a figure\n",
    "fig = plt.figure(figsize=(6, 4))\n",
    "# add a plot\n",
    "ax = fig.add_subplot(111)\n",
    "\n",
    "# plot f(x)\n",
    "ax.plot(x, hardfunction(x), 'b-', label=\"f(x)\")\n",
    "\n",
    "# add the 0-axis\n",
    "ax.axhline(0, color='gray')\n",
    "\n",
    "# plot roots\n",
    "root1 = optimize.root(hardfunction, 1)\n",
    "roots = np.array([root1.x])\n",
    "ax.plot(roots, hardfunction(roots), 'k.', label=\"roots\")\n",
    "\n",
    "# decorate plot\n",
    "ax.legend(loc='best')\n",
    "ax.set_xlabel('x')\n",
    "ax.set_ylabel('hardfunction(x)')\n",
    "ax.set_xlim(0, 10)\n",
    "\n",
    "despine() # remove top and right axes\n",
    "plt.savefig('hardfunctions.pdf', format='pdf')  # save the figure for our lecture\n",
    "plt.show()  # show the plot on the screen"
   ]
  }
 ],
 "metadata": {
  "kernelspec": {
   "display_name": "Python 3",
   "language": "python",
   "name": "python3"
  },
  "language_info": {
   "codemirror_mode": {
    "name": "ipython",
    "version": 3
   },
   "file_extension": ".py",
   "mimetype": "text/x-python",
   "name": "python",
   "nbconvert_exporter": "python",
   "pygments_lexer": "ipython3",
   "version": "3.7.4"
  }
 },
 "nbformat": 4,
 "nbformat_minor": 2
}
